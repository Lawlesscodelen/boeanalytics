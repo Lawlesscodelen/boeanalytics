{
  "nbformat": 4,
  "nbformat_minor": 0,
  "metadata": {
    "colab": {
      "name": "Modelo para clasificar el BOE v0.2.ipynb",
      "version": "0.3.2",
      "provenance": [],
      "collapsed_sections": [
        "Ly2C2FviPs6J"
      ],
      "toc_visible": true
    },
    "kernelspec": {
      "name": "python3",
      "display_name": "Python 3"
    },
    "accelerator": "GPU"
  },
  "cells": [
    {
      "cell_type": "markdown",
      "metadata": {
        "id": "9LkqgiVeIk8z",
        "colab_type": "text"
      },
      "source": [
        "# Modelo para clasificar el BOE\n",
        "\n",
        "Una vez que hayamos clasificado los 2000 BOEs que se encuentran en el fichero \"[BOEs juntos](https://drive.google.com/open?id=1zz6F-fr1d-FHAxeZWWN2ZNgtexC139eQ-nFRV3BXLUk)\".\n",
        "\n",
        "Este desarrollo está basado parcialmente en los siguientes papers:\n",
        "1. https://medium.com/data-from-the-trenches/text-classification-the-first-step-toward-nlp-mastery-f5f95d525d73\n",
        "2. https://machinelearningmastery.com/load-machine-learning-data-python/\n",
        "\n",
        "## Importante\n",
        "Antes de empezar hay que tener una serie de ficheros en el entorno:\n",
        "* `BOE_fit_words.pickle` Es el diccionario del vocabulario usando en el BOE\n",
        "* `BOES-juntos.csv` El listado de BOES ya clasificado\n",
        "* `??.csv.xz` El fichero con los CSV a procesar\n",
        "\n"
      ]
    },
    {
      "cell_type": "markdown",
      "metadata": {
        "id": "tDG-3AK4Jf2U",
        "colab_type": "text"
      },
      "source": [
        "#1. Cargamos las bibliotecas que son necesarias"
      ]
    },
    {
      "cell_type": "code",
      "metadata": {
        "id": "BtQjnyy8Jbpp",
        "colab_type": "code",
        "outputId": "07015180-6e3f-4d9c-ad8b-3a91cd73f32f",
        "colab": {
          "base_uri": "https://localhost:8080/",
          "height": 85
        }
      },
      "source": [
        "# Nos ayudará a vectorizar los textos\n",
        "from sklearn.feature_extraction.text import CountVectorizer\n",
        "\n",
        "# Biblioteca de Expresiones Regulares. Nos ayudará a limpiar el texto\n",
        "import re\n",
        "\n",
        "# Para importar y poder trabajar con los CSV\n",
        "import csv\n",
        "\n",
        "import numpy as np\n",
        "import pandas as pd\n",
        "\n",
        "!pip install -U nltk\n",
        "import nltk\n",
        "nltk.download('stopwords')\n",
        "from nltk.corpus import stopwords\n"
      ],
      "execution_count": 0,
      "outputs": [
        {
          "output_type": "stream",
          "text": [
            "Requirement already up-to-date: nltk in /usr/local/lib/python3.6/dist-packages (3.4.1)\n",
            "Requirement already satisfied, skipping upgrade: six in /usr/local/lib/python3.6/dist-packages (from nltk) (1.12.0)\n"
          ],
          "name": "stdout"
        },
        {
          "output_type": "stream",
          "text": [
            "[nltk_data] Downloading package stopwords to /root/nltk_data...\n",
            "[nltk_data]   Package stopwords is already up-to-date!\n"
          ],
          "name": "stderr"
        }
      ]
    },
    {
      "cell_type": "code",
      "metadata": {
        "id": "ESSdeVLyLx5z",
        "colab_type": "code",
        "colab": {}
      },
      "source": [
        "from sklearn.metrics import accuracy_score\n",
        "\n",
        "# Para esta iteracción vamos a usar el clasificador del Support Vector Machine\n",
        "# Otras opciones podrían ser\n",
        "# * Logistic Regressions\n",
        "# * Naive Bayes\n",
        "from sklearn.svm import LinearSVC\n",
        "from sklearn.naive_bayes import MultinomialNB"
      ],
      "execution_count": 0,
      "outputs": []
    },
    {
      "cell_type": "markdown",
      "metadata": {
        "id": "6TE4E8LZNN1f",
        "colab_type": "text"
      },
      "source": [
        "#2. Creamos la función que nos ayudará a preparar los textos:\n",
        "* Quita espacios repetidos\n",
        "* Quitar caracteres extraños puntos, comas paréntesis, etc\n",
        "* Quita enters, tabuladores\n",
        "* Coloca todo en minúsculas"
      ]
    },
    {
      "cell_type": "code",
      "metadata": {
        "id": "v0q1KKuEN6hN",
        "colab_type": "code",
        "colab": {}
      },
      "source": [
        "def clean_text(serie):\n",
        "    \"\"\"\n",
        "    Adapta el texto dado.\n",
        "\n",
        "    Pasos:\n",
        "    - Quita signos de puntuación\n",
        "    - Pone todo en minúsculas\n",
        "    \"\"\"\n",
        "    \n",
        "    text = serie[0]\n",
        "        \n",
        "    # Quita los [\\], ['] y [\"]\n",
        "    text = re.sub(r\"\\\\\", \"\", text)    \n",
        "    text = re.sub(r\"\\'\", \"\", text)    \n",
        "    text = re.sub(r\"\\\"\", \"\", text)    \n",
        "    \n",
        "    # Pone todo en minúsculas\n",
        "    text = text.strip().lower()\n",
        "    \n",
        "    # Reemplaza todos los caracteres \"raros\" por espacios\n",
        "    filters='«»¡!\"\\'#$€%&()*+,-./:;<=>¿?@[\\\\]^_`{|}~\\t\\n'\n",
        "    translate_dict = dict((c, \" \") for c in filters)\n",
        "    translate_map = str.maketrans(translate_dict)\n",
        "    text = text.translate(translate_map)\n",
        "    serie[0] = text\n",
        "\n",
        "    return serie"
      ],
      "execution_count": 0,
      "outputs": []
    },
    {
      "cell_type": "markdown",
      "metadata": {
        "id": "aukp_6G_eVTk",
        "colab_type": "text"
      },
      "source": [
        "# 3. Limpiamos el data set de entrenamiento"
      ]
    },
    {
      "cell_type": "code",
      "metadata": {
        "id": "DrLT1-4pecNX",
        "colab_type": "code",
        "colab": {}
      },
      "source": [
        "# Cargamos el CSV\n",
        "\n",
        "# Este la dirección en donde esta el fichero CSV\n",
        "filename = './BOES-juntos.csv'\n",
        "\n",
        "train = pd.read_csv(filename)\n",
        "\n",
        "# Hay veces que el excel tiene líneas en blanco\n",
        "# y estas son interpretadas como non/available N/A\n",
        "# el método dropna() del DataFrame de pandas los quita\n",
        "train = train.dropna()\n",
        "\n",
        "# Aplicamos la función de limpieza\n",
        "train = train.apply(clean_text, axis=1)"
      ],
      "execution_count": 0,
      "outputs": []
    },
    {
      "cell_type": "markdown",
      "metadata": {
        "id": "McrthjyabrpH",
        "colab_type": "text"
      },
      "source": [
        "#4. Limpiamos el data set a procesar"
      ]
    },
    {
      "cell_type": "code",
      "metadata": {
        "id": "aeKuImQ3b05-",
        "colab_type": "code",
        "outputId": "d04cfbed-4ce3-49b4-b34c-fb41d7cf7186",
        "colab": {
          "base_uri": "https://localhost:8080/",
          "height": 173
        }
      },
      "source": [
        "import os\n",
        "import time\n",
        "\n",
        "# Este la dirección en donde esta el fichero CSV\n",
        "compressed_filename = './t.csv.xz';\n",
        "\n",
        "# Al final, el fichero obtenido es u.csv\n",
        "filename = compressed_filename.replace(\".xz\", \"\")\n",
        "print(filename)\n",
        "\n",
        "# Si existe el fichero u.csv existe no lo descomprimimos\n",
        "if os.path.isfile(filename) == False:\n",
        "  # Descomprimir el CSV\n",
        "  !unxz $compressed_filename\n",
        "\n",
        "# Cargamos el CSV\n",
        "ts = time.time()\n",
        "process = pd.read_csv(filename, error_bad_lines=False, header=None)\n",
        "\n",
        "print (\"Hemos tardado \" + str(time.time() - ts) + \" segundos en cargar el CSV\")\n",
        "ts = time.time()\n",
        "\n",
        "# Hay veces que el excel tiene líneas en blanco\n",
        "# y estas son interpretadas como non/available N/A\n",
        "# el método dropna() del DataFrame de pandas los quita\n",
        "process = process.dropna()\n",
        "\n",
        "# Aplicamos la función de limpieza\n",
        "process = process.apply(clean_text, axis=1)\n",
        "\n",
        "print (\"Hemos tardado \" + str(time.time() - ts) + \" segundos en procesar CSV\")\n"
      ],
      "execution_count": 0,
      "outputs": [
        {
          "output_type": "stream",
          "text": [
            "./d.csv\n"
          ],
          "name": "stdout"
        },
        {
          "output_type": "stream",
          "text": [
            "b'Skipping line 777: expected 3 fields, saw 4\\nSkipping line 785: expected 3 fields, saw 4\\nSkipping line 788: expected 3 fields, saw 6\\nSkipping line 789: expected 3 fields, saw 5\\nSkipping line 794: expected 3 fields, saw 7\\nSkipping line 798: expected 3 fields, saw 6\\nSkipping line 800: expected 3 fields, saw 5\\nSkipping line 805: expected 3 fields, saw 4\\n'\n",
            "b'Skipping line 272905: expected 3 fields, saw 10\\nSkipping line 272909: expected 3 fields, saw 4\\nSkipping line 272914: expected 3 fields, saw 6\\nSkipping line 272925: expected 3 fields, saw 7\\nSkipping line 272927: expected 3 fields, saw 15\\nSkipping line 272929: expected 3 fields, saw 9\\nSkipping line 272932: expected 3 fields, saw 4\\nSkipping line 273053: expected 3 fields, saw 10\\nSkipping line 273057: expected 3 fields, saw 4\\nSkipping line 273062: expected 3 fields, saw 6\\nSkipping line 273073: expected 3 fields, saw 7\\nSkipping line 273075: expected 3 fields, saw 15\\nSkipping line 273077: expected 3 fields, saw 9\\nSkipping line 273080: expected 3 fields, saw 4\\nSkipping line 273200: expected 3 fields, saw 10\\nSkipping line 273204: expected 3 fields, saw 4\\nSkipping line 273209: expected 3 fields, saw 6\\nSkipping line 273220: expected 3 fields, saw 7\\nSkipping line 273222: expected 3 fields, saw 15\\nSkipping line 273224: expected 3 fields, saw 9\\nSkipping line 273227: expected 3 fields, saw 4\\nSkipping line 273347: expected 3 fields, saw 10\\nSkipping line 273351: expected 3 fields, saw 4\\nSkipping line 273356: expected 3 fields, saw 6\\nSkipping line 273367: expected 3 fields, saw 7\\nSkipping line 273369: expected 3 fields, saw 15\\nSkipping line 273371: expected 3 fields, saw 9\\nSkipping line 273374: expected 3 fields, saw 4\\nSkipping line 273495: expected 3 fields, saw 10\\nSkipping line 273499: expected 3 fields, saw 4\\nSkipping line 273504: expected 3 fields, saw 6\\nSkipping line 273515: expected 3 fields, saw 7\\nSkipping line 273517: expected 3 fields, saw 15\\nSkipping line 273519: expected 3 fields, saw 9\\nSkipping line 273522: expected 3 fields, saw 4\\nSkipping line 273643: expected 3 fields, saw 10\\nSkipping line 273647: expected 3 fields, saw 4\\nSkipping line 273652: expected 3 fields, saw 6\\nSkipping line 273663: expected 3 fields, saw 7\\nSkipping line 273665: expected 3 fields, saw 15\\nSkipping line 273667: expected 3 fields, saw 9\\nSkipping line 273670: expected 3 fields, saw 4\\nSkipping line 273791: expected 3 fields, saw 10\\nSkipping line 273795: expected 3 fields, saw 4\\nSkipping line 273800: expected 3 fields, saw 6\\nSkipping line 273811: expected 3 fields, saw 7\\nSkipping line 273813: expected 3 fields, saw 15\\nSkipping line 273815: expected 3 fields, saw 9\\nSkipping line 273818: expected 3 fields, saw 4\\nSkipping line 273939: expected 3 fields, saw 10\\nSkipping line 273943: expected 3 fields, saw 4\\nSkipping line 273948: expected 3 fields, saw 6\\nSkipping line 273959: expected 3 fields, saw 7\\nSkipping line 273961: expected 3 fields, saw 15\\nSkipping line 273963: expected 3 fields, saw 9\\nSkipping line 273966: expected 3 fields, saw 4\\nSkipping line 284891: expected 3 fields, saw 4\\nSkipping line 284895: expected 3 fields, saw 4\\nSkipping line 284898: expected 3 fields, saw 6\\nSkipping line 284903: expected 3 fields, saw 6\\nSkipping line 284907: expected 3 fields, saw 7\\nSkipping line 284908: expected 3 fields, saw 13\\nSkipping line 284909: expected 3 fields, saw 7\\nSkipping line 284910: expected 3 fields, saw 7\\nSkipping line 284911: expected 3 fields, saw 6\\nSkipping line 285068: expected 3 fields, saw 4\\nSkipping line 285072: expected 3 fields, saw 4\\nSkipping line 285075: expected 3 fields, saw 6\\nSkipping line 285080: expected 3 fields, saw 6\\nSkipping line 285084: expected 3 fields, saw 7\\nSkipping line 285085: expected 3 fields, saw 13\\nSkipping line 285086: expected 3 fields, saw 7\\nSkipping line 285087: expected 3 fields, saw 7\\nSkipping line 285088: expected 3 fields, saw 6\\nSkipping line 285241: expected 3 fields, saw 4\\nSkipping line 285245: expected 3 fields, saw 4\\nSkipping line 285248: expected 3 fields, saw 6\\nSkipping line 285253: expected 3 fields, saw 6\\nSkipping line 285257: expected 3 fields, saw 7\\nSkipping line 285258: expected 3 fields, saw 13\\nSkipping line 285259: expected 3 fields, saw 7\\nSkipping line 285260: expected 3 fields, saw 7\\nSkipping line 285261: expected 3 fields, saw 6\\nSkipping line 285420: expected 3 fields, saw 4\\nSkipping line 285424: expected 3 fields, saw 4\\nSkipping line 285427: expected 3 fields, saw 6\\nSkipping line 285432: expected 3 fields, saw 6\\nSkipping line 285436: expected 3 fields, saw 7\\nSkipping line 285437: expected 3 fields, saw 13\\nSkipping line 285438: expected 3 fields, saw 7\\nSkipping line 285439: expected 3 fields, saw 7\\nSkipping line 285440: expected 3 fields, saw 6\\nSkipping line 285602: expected 3 fields, saw 4\\nSkipping line 285606: expected 3 fields, saw 4\\nSkipping line 285609: expected 3 fields, saw 6\\nSkipping line 285614: expected 3 fields, saw 6\\nSkipping line 285618: expected 3 fields, saw 7\\nSkipping line 285619: expected 3 fields, saw 13\\nSkipping line 285620: expected 3 fields, saw 7\\nSkipping line 285621: expected 3 fields, saw 7\\nSkipping line 285622: expected 3 fields, saw 6\\nSkipping line 285784: expected 3 fields, saw 4\\nSkipping line 285788: expected 3 fields, saw 4\\nSkipping line 285791: expected 3 fields, saw 6\\nSkipping line 285796: expected 3 fields, saw 6\\nSkipping line 285800: expected 3 fields, saw 7\\nSkipping line 285801: expected 3 fields, saw 13\\nSkipping line 285802: expected 3 fields, saw 7\\nSkipping line 285803: expected 3 fields, saw 7\\nSkipping line 285804: expected 3 fields, saw 6\\nSkipping line 285966: expected 3 fields, saw 4\\nSkipping line 285970: expected 3 fields, saw 4\\nSkipping line 285973: expected 3 fields, saw 6\\nSkipping line 285978: expected 3 fields, saw 6\\nSkipping line 285982: expected 3 fields, saw 7\\nSkipping line 285983: expected 3 fields, saw 13\\nSkipping line 285984: expected 3 fields, saw 7\\nSkipping line 285985: expected 3 fields, saw 7\\nSkipping line 285986: expected 3 fields, saw 6\\n'\n",
            "b'Skipping line 558314: expected 3 fields, saw 7\\nSkipping line 558316: expected 3 fields, saw 4\\nSkipping line 558317: expected 3 fields, saw 7\\nSkipping line 558318: expected 3 fields, saw 4\\nSkipping line 558330: expected 3 fields, saw 6\\nSkipping line 558333: expected 3 fields, saw 4\\nSkipping line 558349: expected 3 fields, saw 4\\nSkipping line 558356: expected 3 fields, saw 4\\nSkipping line 558368: expected 3 fields, saw 5\\nSkipping line 558376: expected 3 fields, saw 4\\nSkipping line 558390: expected 3 fields, saw 4\\nSkipping line 558392: expected 3 fields, saw 4\\nSkipping line 558544: expected 3 fields, saw 7\\nSkipping line 558546: expected 3 fields, saw 4\\nSkipping line 558547: expected 3 fields, saw 7\\nSkipping line 558548: expected 3 fields, saw 4\\nSkipping line 558560: expected 3 fields, saw 6\\nSkipping line 558563: expected 3 fields, saw 4\\nSkipping line 558579: expected 3 fields, saw 4\\nSkipping line 558586: expected 3 fields, saw 4\\nSkipping line 558598: expected 3 fields, saw 5\\nSkipping line 558606: expected 3 fields, saw 4\\nSkipping line 558620: expected 3 fields, saw 4\\nSkipping line 558622: expected 3 fields, saw 4\\nSkipping line 558787: expected 3 fields, saw 7\\nSkipping line 558789: expected 3 fields, saw 4\\nSkipping line 558790: expected 3 fields, saw 7\\nSkipping line 558791: expected 3 fields, saw 4\\nSkipping line 558803: expected 3 fields, saw 6\\nSkipping line 558806: expected 3 fields, saw 4\\nSkipping line 558822: expected 3 fields, saw 4\\nSkipping line 558829: expected 3 fields, saw 4\\nSkipping line 558841: expected 3 fields, saw 5\\nSkipping line 558849: expected 3 fields, saw 4\\nSkipping line 558863: expected 3 fields, saw 4\\nSkipping line 558865: expected 3 fields, saw 4\\nSkipping line 559028: expected 3 fields, saw 7\\nSkipping line 559030: expected 3 fields, saw 4\\nSkipping line 559031: expected 3 fields, saw 7\\nSkipping line 559032: expected 3 fields, saw 4\\nSkipping line 559044: expected 3 fields, saw 6\\nSkipping line 559047: expected 3 fields, saw 4\\nSkipping line 559063: expected 3 fields, saw 4\\nSkipping line 559070: expected 3 fields, saw 4\\nSkipping line 559082: expected 3 fields, saw 5\\nSkipping line 559090: expected 3 fields, saw 4\\nSkipping line 559104: expected 3 fields, saw 4\\nSkipping line 559106: expected 3 fields, saw 4\\nSkipping line 559273: expected 3 fields, saw 7\\nSkipping line 559275: expected 3 fields, saw 4\\nSkipping line 559276: expected 3 fields, saw 7\\nSkipping line 559277: expected 3 fields, saw 4\\nSkipping line 559289: expected 3 fields, saw 6\\nSkipping line 559292: expected 3 fields, saw 4\\nSkipping line 559308: expected 3 fields, saw 4\\nSkipping line 559315: expected 3 fields, saw 4\\nSkipping line 559327: expected 3 fields, saw 5\\nSkipping line 559335: expected 3 fields, saw 4\\nSkipping line 559349: expected 3 fields, saw 4\\nSkipping line 559351: expected 3 fields, saw 4\\nSkipping line 559521: expected 3 fields, saw 7\\nSkipping line 559523: expected 3 fields, saw 4\\nSkipping line 559524: expected 3 fields, saw 7\\nSkipping line 559525: expected 3 fields, saw 4\\nSkipping line 559537: expected 3 fields, saw 6\\nSkipping line 559540: expected 3 fields, saw 4\\nSkipping line 559556: expected 3 fields, saw 4\\nSkipping line 559563: expected 3 fields, saw 4\\nSkipping line 559575: expected 3 fields, saw 5\\nSkipping line 559583: expected 3 fields, saw 4\\nSkipping line 559597: expected 3 fields, saw 4\\nSkipping line 559599: expected 3 fields, saw 4\\nSkipping line 559769: expected 3 fields, saw 7\\nSkipping line 559771: expected 3 fields, saw 4\\nSkipping line 559772: expected 3 fields, saw 7\\nSkipping line 559773: expected 3 fields, saw 4\\nSkipping line 559785: expected 3 fields, saw 6\\nSkipping line 559788: expected 3 fields, saw 4\\nSkipping line 559804: expected 3 fields, saw 4\\nSkipping line 559811: expected 3 fields, saw 4\\nSkipping line 559823: expected 3 fields, saw 5\\nSkipping line 559831: expected 3 fields, saw 4\\nSkipping line 559845: expected 3 fields, saw 4\\nSkipping line 559847: expected 3 fields, saw 4\\nSkipping line 560017: expected 3 fields, saw 7\\nSkipping line 560019: expected 3 fields, saw 4\\nSkipping line 560020: expected 3 fields, saw 7\\nSkipping line 560021: expected 3 fields, saw 4\\nSkipping line 560033: expected 3 fields, saw 6\\nSkipping line 560036: expected 3 fields, saw 4\\nSkipping line 560052: expected 3 fields, saw 4\\nSkipping line 560059: expected 3 fields, saw 4\\nSkipping line 560071: expected 3 fields, saw 5\\nSkipping line 560079: expected 3 fields, saw 4\\nSkipping line 560093: expected 3 fields, saw 4\\nSkipping line 560095: expected 3 fields, saw 4\\nSkipping line 603157: expected 3 fields, saw 4\\nSkipping line 603161: expected 3 fields, saw 4\\nSkipping line 603164: expected 3 fields, saw 6\\nSkipping line 603169: expected 3 fields, saw 6\\nSkipping line 603173: expected 3 fields, saw 7\\nSkipping line 603174: expected 3 fields, saw 13\\nSkipping line 603175: expected 3 fields, saw 7\\nSkipping line 603176: expected 3 fields, saw 7\\nSkipping line 603177: expected 3 fields, saw 6\\nSkipping line 609384: expected 3 fields, saw 6\\nSkipping line 609385: expected 3 fields, saw 12\\nSkipping line 609386: expected 3 fields, saw 6\\nSkipping line 609387: expected 3 fields, saw 4\\nSkipping line 609388: expected 3 fields, saw 4\\nSkipping line 609389: expected 3 fields, saw 6\\nSkipping line 609391: expected 3 fields, saw 4\\nSkipping line 609392: expected 3 fields, saw 18\\nSkipping line 609393: expected 3 fields, saw 6\\nSkipping line 609394: expected 3 fields, saw 12\\nSkipping line 609395: expected 3 fields, saw 6\\nSkipping line 609396: expected 3 fields, saw 12\\nSkipping line 609399: expected 3 fields, saw 9\\nSkipping line 609401: expected 3 fields, saw 5\\nSkipping line 609402: expected 3 fields, saw 4\\nSkipping line 609422: expected 3 fields, saw 11\\nSkipping line 609423: expected 3 fields, saw 7\\nSkipping line 609424: expected 3 fields, saw 6\\nSkipping line 609427: expected 3 fields, saw 5\\nSkipping line 609429: expected 3 fields, saw 5\\nSkipping line 609440: expected 3 fields, saw 4\\nSkipping line 609441: expected 3 fields, saw 5\\nSkipping line 609442: expected 3 fields, saw 4\\nSkipping line 609447: expected 3 fields, saw 14\\nSkipping line 609456: expected 3 fields, saw 6\\nSkipping line 609457: expected 3 fields, saw 4\\nSkipping line 609463: expected 3 fields, saw 7\\nSkipping line 609479: expected 3 fields, saw 6\\nSkipping line 609486: expected 3 fields, saw 6\\nSkipping line 609487: expected 3 fields, saw 4\\nSkipping line 609498: expected 3 fields, saw 16\\nSkipping line 609501: expected 3 fields, saw 7\\nSkipping line 609503: expected 3 fields, saw 5\\nSkipping line 609507: expected 3 fields, saw 4\\nSkipping line 609508: expected 3 fields, saw 5\\nSkipping line 609543: expected 3 fields, saw 6\\nSkipping line 609544: expected 3 fields, saw 5\\nSkipping line 609684: expected 3 fields, saw 6\\nSkipping line 609685: expected 3 fields, saw 12\\nSkipping line 609686: expected 3 fields, saw 6\\nSkipping line 609687: expected 3 fields, saw 4\\nSkipping line 609688: expected 3 fields, saw 4\\nSkipping line 609689: expected 3 fields, saw 6\\nSkipping line 609691: expected 3 fields, saw 4\\nSkipping line 609692: expected 3 fields, saw 18\\nSkipping line 609693: expected 3 fields, saw 6\\nSkipping line 609694: expected 3 fields, saw 12\\nSkipping line 609695: expected 3 fields, saw 6\\nSkipping line 609696: expected 3 fields, saw 12\\nSkipping line 609699: expected 3 fields, saw 9\\nSkipping line 609701: expected 3 fields, saw 5\\nSkipping line 609702: expected 3 fields, saw 4\\nSkipping line 609722: expected 3 fields, saw 11\\nSkipping line 609723: expected 3 fields, saw 7\\nSkipping line 609724: expected 3 fields, saw 6\\nSkipping line 609727: expected 3 fields, saw 5\\nSkipping line 609729: expected 3 fields, saw 5\\nSkipping line 609740: expected 3 fields, saw 4\\nSkipping line 609741: expected 3 fields, saw 5\\nSkipping line 609742: expected 3 fields, saw 4\\nSkipping line 609747: expected 3 fields, saw 14\\nSkipping line 609756: expected 3 fields, saw 6\\nSkipping line 609757: expected 3 fields, saw 4\\nSkipping line 609763: expected 3 fields, saw 7\\nSkipping line 609779: expected 3 fields, saw 6\\nSkipping line 609786: expected 3 fields, saw 6\\nSkipping line 609787: expected 3 fields, saw 4\\nSkipping line 609798: expected 3 fields, saw 16\\nSkipping line 609801: expected 3 fields, saw 7\\nSkipping line 609803: expected 3 fields, saw 5\\nSkipping line 609807: expected 3 fields, saw 4\\nSkipping line 609808: expected 3 fields, saw 5\\nSkipping line 609843: expected 3 fields, saw 6\\nSkipping line 609844: expected 3 fields, saw 5\\nSkipping line 609997: expected 3 fields, saw 6\\nSkipping line 609998: expected 3 fields, saw 12\\nSkipping line 609999: expected 3 fields, saw 6\\nSkipping line 610000: expected 3 fields, saw 4\\nSkipping line 610001: expected 3 fields, saw 4\\nSkipping line 610002: expected 3 fields, saw 6\\nSkipping line 610004: expected 3 fields, saw 4\\nSkipping line 610005: expected 3 fields, saw 18\\nSkipping line 610006: expected 3 fields, saw 6\\nSkipping line 610007: expected 3 fields, saw 12\\nSkipping line 610008: expected 3 fields, saw 6\\nSkipping line 610009: expected 3 fields, saw 12\\nSkipping line 610012: expected 3 fields, saw 9\\nSkipping line 610014: expected 3 fields, saw 5\\nSkipping line 610015: expected 3 fields, saw 4\\nSkipping line 610035: expected 3 fields, saw 11\\nSkipping line 610036: expected 3 fields, saw 7\\nSkipping line 610037: expected 3 fields, saw 6\\nSkipping line 610040: expected 3 fields, saw 5\\nSkipping line 610042: expected 3 fields, saw 5\\nSkipping line 610053: expected 3 fields, saw 4\\nSkipping line 610054: expected 3 fields, saw 5\\nSkipping line 610055: expected 3 fields, saw 4\\nSkipping line 610060: expected 3 fields, saw 14\\nSkipping line 610069: expected 3 fields, saw 6\\nSkipping line 610070: expected 3 fields, saw 4\\nSkipping line 610076: expected 3 fields, saw 7\\nSkipping line 610092: expected 3 fields, saw 6\\nSkipping line 610099: expected 3 fields, saw 6\\nSkipping line 610100: expected 3 fields, saw 4\\nSkipping line 610111: expected 3 fields, saw 16\\nSkipping line 610114: expected 3 fields, saw 7\\nSkipping line 610116: expected 3 fields, saw 5\\nSkipping line 610120: expected 3 fields, saw 4\\nSkipping line 610121: expected 3 fields, saw 5\\nSkipping line 610156: expected 3 fields, saw 6\\nSkipping line 610157: expected 3 fields, saw 5\\nSkipping line 610308: expected 3 fields, saw 6\\nSkipping line 610309: expected 3 fields, saw 12\\nSkipping line 610310: expected 3 fields, saw 6\\nSkipping line 610311: expected 3 fields, saw 4\\nSkipping line 610312: expected 3 fields, saw 4\\nSkipping line 610313: expected 3 fields, saw 6\\nSkipping line 610315: expected 3 fields, saw 4\\nSkipping line 610316: expected 3 fields, saw 18\\nSkipping line 610317: expected 3 fields, saw 6\\nSkipping line 610318: expected 3 fields, saw 12\\nSkipping line 610319: expected 3 fields, saw 6\\nSkipping line 610320: expected 3 fields, saw 12\\nSkipping line 610323: expected 3 fields, saw 9\\nSkipping line 610325: expected 3 fields, saw 5\\nSkipping line 610326: expected 3 fields, saw 4\\nSkipping line 610346: expected 3 fields, saw 11\\nSkipping line 610347: expected 3 fields, saw 7\\nSkipping line 610348: expected 3 fields, saw 6\\nSkipping line 610351: expected 3 fields, saw 5\\nSkipping line 610353: expected 3 fields, saw 5\\nSkipping line 610364: expected 3 fields, saw 4\\nSkipping line 610365: expected 3 fields, saw 5\\nSkipping line 610366: expected 3 fields, saw 4\\nSkipping line 610371: expected 3 fields, saw 14\\nSkipping line 610380: expected 3 fields, saw 6\\nSkipping line 610381: expected 3 fields, saw 4\\nSkipping line 610387: expected 3 fields, saw 7\\nSkipping line 610403: expected 3 fields, saw 6\\nSkipping line 610410: expected 3 fields, saw 6\\nSkipping line 610411: expected 3 fields, saw 4\\nSkipping line 610422: expected 3 fields, saw 16\\nSkipping line 610425: expected 3 fields, saw 7\\nSkipping line 610427: expected 3 fields, saw 5\\nSkipping line 610431: expected 3 fields, saw 4\\nSkipping line 610432: expected 3 fields, saw 5\\nSkipping line 610467: expected 3 fields, saw 6\\nSkipping line 610468: expected 3 fields, saw 5\\nSkipping line 610621: expected 3 fields, saw 6\\nSkipping line 610622: expected 3 fields, saw 12\\nSkipping line 610623: expected 3 fields, saw 6\\nSkipping line 610624: expected 3 fields, saw 4\\nSkipping line 610625: expected 3 fields, saw 4\\nSkipping line 610626: expected 3 fields, saw 6\\nSkipping line 610628: expected 3 fields, saw 4\\nSkipping line 610629: expected 3 fields, saw 18\\nSkipping line 610630: expected 3 fields, saw 6\\nSkipping line 610631: expected 3 fields, saw 12\\nSkipping line 610632: expected 3 fields, saw 6\\nSkipping line 610633: expected 3 fields, saw 12\\nSkipping line 610636: expected 3 fields, saw 9\\nSkipping line 610638: expected 3 fields, saw 5\\nSkipping line 610639: expected 3 fields, saw 4\\nSkipping line 610659: expected 3 fields, saw 11\\nSkipping line 610660: expected 3 fields, saw 7\\nSkipping line 610661: expected 3 fields, saw 6\\nSkipping line 610664: expected 3 fields, saw 5\\nSkipping line 610666: expected 3 fields, saw 5\\nSkipping line 610677: expected 3 fields, saw 4\\nSkipping line 610678: expected 3 fields, saw 5\\nSkipping line 610679: expected 3 fields, saw 4\\nSkipping line 610684: expected 3 fields, saw 14\\nSkipping line 610693: expected 3 fields, saw 6\\nSkipping line 610694: expected 3 fields, saw 4\\nSkipping line 610700: expected 3 fields, saw 7\\nSkipping line 610716: expected 3 fields, saw 6\\nSkipping line 610723: expected 3 fields, saw 6\\nSkipping line 610724: expected 3 fields, saw 4\\nSkipping line 610735: expected 3 fields, saw 16\\nSkipping line 610738: expected 3 fields, saw 7\\nSkipping line 610740: expected 3 fields, saw 5\\nSkipping line 610744: expected 3 fields, saw 4\\nSkipping line 610745: expected 3 fields, saw 5\\nSkipping line 610780: expected 3 fields, saw 6\\nSkipping line 610781: expected 3 fields, saw 5\\nSkipping line 610937: expected 3 fields, saw 6\\nSkipping line 610938: expected 3 fields, saw 12\\nSkipping line 610939: expected 3 fields, saw 6\\nSkipping line 610940: expected 3 fields, saw 4\\nSkipping line 610941: expected 3 fields, saw 4\\nSkipping line 610942: expected 3 fields, saw 6\\nSkipping line 610944: expected 3 fields, saw 4\\nSkipping line 610945: expected 3 fields, saw 18\\nSkipping line 610946: expected 3 fields, saw 6\\nSkipping line 610947: expected 3 fields, saw 12\\nSkipping line 610948: expected 3 fields, saw 6\\nSkipping line 610949: expected 3 fields, saw 12\\nSkipping line 610952: expected 3 fields, saw 9\\nSkipping line 610954: expected 3 fields, saw 5\\nSkipping line 610955: expected 3 fields, saw 4\\nSkipping line 610975: expected 3 fields, saw 11\\nSkipping line 610976: expected 3 fields, saw 7\\nSkipping line 610977: expected 3 fields, saw 6\\nSkipping line 610980: expected 3 fields, saw 5\\nSkipping line 610982: expected 3 fields, saw 5\\nSkipping line 610993: expected 3 fields, saw 4\\nSkipping line 610994: expected 3 fields, saw 5\\nSkipping line 610995: expected 3 fields, saw 4\\nSkipping line 611000: expected 3 fields, saw 14\\nSkipping line 611009: expected 3 fields, saw 6\\nSkipping line 611010: expected 3 fields, saw 4\\nSkipping line 611016: expected 3 fields, saw 7\\nSkipping line 611032: expected 3 fields, saw 6\\nSkipping line 611039: expected 3 fields, saw 6\\nSkipping line 611040: expected 3 fields, saw 4\\nSkipping line 611051: expected 3 fields, saw 16\\nSkipping line 611054: expected 3 fields, saw 7\\nSkipping line 611056: expected 3 fields, saw 5\\nSkipping line 611060: expected 3 fields, saw 4\\nSkipping line 611061: expected 3 fields, saw 5\\nSkipping line 611096: expected 3 fields, saw 6\\nSkipping line 611097: expected 3 fields, saw 5\\nSkipping line 611253: expected 3 fields, saw 6\\nSkipping line 611254: expected 3 fields, saw 12\\nSkipping line 611255: expected 3 fields, saw 6\\nSkipping line 611256: expected 3 fields, saw 4\\nSkipping line 611257: expected 3 fields, saw 4\\nSkipping line 611258: expected 3 fields, saw 6\\nSkipping line 611260: expected 3 fields, saw 4\\nSkipping line 611261: expected 3 fields, saw 18\\nSkipping line 611262: expected 3 fields, saw 6\\nSkipping line 611263: expected 3 fields, saw 12\\nSkipping line 611264: expected 3 fields, saw 6\\nSkipping line 611265: expected 3 fields, saw 12\\nSkipping line 611268: expected 3 fields, saw 9\\nSkipping line 611270: expected 3 fields, saw 5\\nSkipping line 611271: expected 3 fields, saw 4\\nSkipping line 611291: expected 3 fields, saw 11\\nSkipping line 611292: expected 3 fields, saw 7\\nSkipping line 611293: expected 3 fields, saw 6\\nSkipping line 611296: expected 3 fields, saw 5\\nSkipping line 611298: expected 3 fields, saw 5\\nSkipping line 611309: expected 3 fields, saw 4\\nSkipping line 611310: expected 3 fields, saw 5\\nSkipping line 611311: expected 3 fields, saw 4\\nSkipping line 611316: expected 3 fields, saw 14\\nSkipping line 611325: expected 3 fields, saw 6\\nSkipping line 611326: expected 3 fields, saw 4\\nSkipping line 611332: expected 3 fields, saw 7\\nSkipping line 611348: expected 3 fields, saw 6\\nSkipping line 611355: expected 3 fields, saw 6\\nSkipping line 611356: expected 3 fields, saw 4\\nSkipping line 611367: expected 3 fields, saw 16\\nSkipping line 611370: expected 3 fields, saw 7\\nSkipping line 611372: expected 3 fields, saw 5\\nSkipping line 611376: expected 3 fields, saw 4\\nSkipping line 611377: expected 3 fields, saw 5\\nSkipping line 611412: expected 3 fields, saw 6\\nSkipping line 611413: expected 3 fields, saw 5\\nSkipping line 611569: expected 3 fields, saw 6\\nSkipping line 611570: expected 3 fields, saw 12\\nSkipping line 611571: expected 3 fields, saw 6\\nSkipping line 611572: expected 3 fields, saw 4\\nSkipping line 611573: expected 3 fields, saw 4\\nSkipping line 611574: expected 3 fields, saw 6\\nSkipping line 611576: expected 3 fields, saw 4\\nSkipping line 611577: expected 3 fields, saw 18\\nSkipping line 611578: expected 3 fields, saw 6\\nSkipping line 611579: expected 3 fields, saw 12\\nSkipping line 611580: expected 3 fields, saw 6\\nSkipping line 611581: expected 3 fields, saw 12\\nSkipping line 611584: expected 3 fields, saw 9\\nSkipping line 611586: expected 3 fields, saw 5\\nSkipping line 611587: expected 3 fields, saw 4\\nSkipping line 611607: expected 3 fields, saw 11\\nSkipping line 611608: expected 3 fields, saw 7\\nSkipping line 611609: expected 3 fields, saw 6\\nSkipping line 611612: expected 3 fields, saw 5\\nSkipping line 611614: expected 3 fields, saw 5\\nSkipping line 611625: expected 3 fields, saw 4\\nSkipping line 611626: expected 3 fields, saw 5\\nSkipping line 611627: expected 3 fields, saw 4\\nSkipping line 611632: expected 3 fields, saw 14\\nSkipping line 611641: expected 3 fields, saw 6\\nSkipping line 611642: expected 3 fields, saw 4\\nSkipping line 611648: expected 3 fields, saw 7\\nSkipping line 611664: expected 3 fields, saw 6\\nSkipping line 611671: expected 3 fields, saw 6\\nSkipping line 611672: expected 3 fields, saw 4\\nSkipping line 611683: expected 3 fields, saw 16\\nSkipping line 611686: expected 3 fields, saw 7\\nSkipping line 611688: expected 3 fields, saw 5\\nSkipping line 611692: expected 3 fields, saw 4\\nSkipping line 611693: expected 3 fields, saw 5\\nSkipping line 611728: expected 3 fields, saw 6\\nSkipping line 611729: expected 3 fields, saw 5\\n'\n",
            "/usr/local/lib/python3.6/dist-packages/IPython/core/interactiveshell.py:2718: DtypeWarning: Columns (1) have mixed types. Specify dtype option on import or set low_memory=False.\n",
            "  interactivity=interactivity, compiler=compiler, result=result)\n"
          ],
          "name": "stderr"
        },
        {
          "output_type": "stream",
          "text": [
            "Hemos tardado 55.52770924568176 segundos en cargar el CSV\n",
            "Hemos tardado 179.9554135799408 segundos en procesar CSV\n"
          ],
          "name": "stdout"
        }
      ]
    },
    {
      "cell_type": "markdown",
      "metadata": {
        "id": "aWRYG4TibOmC",
        "colab_type": "text"
      },
      "source": [
        "# 5. Cargamos el vectorizador\n",
        "### Junto con el listado de stopwords en español"
      ]
    },
    {
      "cell_type": "code",
      "metadata": {
        "id": "8uLyeabkbdcf",
        "colab_type": "code",
        "colab": {}
      },
      "source": [
        "import pickle\n",
        "\n",
        "vectorizer = pickle.load(open(\"BOE_fit_words.pickle\", \"rb\"))\n",
        "\n"
      ],
      "execution_count": 0,
      "outputs": []
    },
    {
      "cell_type": "markdown",
      "metadata": {
        "id": "ZRLGFGWNe2x8",
        "colab_type": "text"
      },
      "source": [
        "#5.1. Vectorizamos el conjunto de entrenamiento"
      ]
    },
    {
      "cell_type": "code",
      "metadata": {
        "id": "zEV99f6ce68c",
        "colab_type": "code",
        "colab": {}
      },
      "source": [
        "# Vectorizamos el conjunto de datos de entrenamiento (train)\n",
        "\n",
        "training_features = vectorizer.transform(train[\"Texto\"])\n"
      ],
      "execution_count": 0,
      "outputs": []
    },
    {
      "cell_type": "markdown",
      "metadata": {
        "id": "-qP522_4diza",
        "colab_type": "text"
      },
      "source": [
        "#5.2 Vectorizamos el conjunto de proceso"
      ]
    },
    {
      "cell_type": "code",
      "metadata": {
        "id": "cLEyyLZ1dtlp",
        "colab_type": "code",
        "outputId": "cd81f6f6-a993-4959-c2ee-2a9da8b653c2",
        "colab": {
          "base_uri": "https://localhost:8080/",
          "height": 34
        }
      },
      "source": [
        "# Vectorizamos el conjunto de datos de proceso (proces)\n",
        "ts = time.time()\n",
        "process_features = vectorizer.transform(process[2])\n",
        "print (\"Hemos tardado \" + str(time.time() - ts) + \" segundos en vectorizar\")"
      ],
      "execution_count": 0,
      "outputs": [
        {
          "output_type": "stream",
          "text": [
            "Hemos tardado 465.43222522735596 segundos en vectorizar\n"
          ],
          "name": "stdout"
        }
      ]
    },
    {
      "cell_type": "markdown",
      "metadata": {
        "id": "ig_mmi-tKlrf",
        "colab_type": "text"
      },
      "source": [
        "# 6. Creamos el modelo y... lo ejecutamos"
      ]
    },
    {
      "cell_type": "code",
      "metadata": {
        "id": "jArUQyOwKjjW",
        "colab_type": "code",
        "cellView": "code",
        "outputId": "edc07f28-6a98-4a09-bbd4-ba803684bd91",
        "colab": {
          "base_uri": "https://localhost:8080/",
          "height": 34
        }
      },
      "source": [
        "#@title Texto de título predeterminado\n",
        "# Creamos el modelo. Linear Support Vector Machine Classifier\n",
        "model = LinearSVC(max_iter=5000)\n",
        "model = MultinomialNB()\n",
        "\n",
        "# Entrenamos\n",
        "model.fit(training_features, train[\"Categoria\"])\n",
        "\n",
        "# Hacemos una predicción\n",
        "y_pred = model.predict(process_features)\n",
        "\n",
        "#acc = accuracy_score(test[\"Categoria\"], y_pred)\n",
        "\n",
        "#print(\"Accuracy on the BOE dataset: {:.2f}\".format(acc*100))\n",
        "\n",
        "y_pred"
      ],
      "execution_count": 0,
      "outputs": [
        {
          "output_type": "execute_result",
          "data": {
            "text/plain": [
              "array([11, 11, 11, ..., 11, 20, 19])"
            ]
          },
          "metadata": {
            "tags": []
          },
          "execution_count": 12
        }
      ]
    },
    {
      "cell_type": "code",
      "metadata": {
        "id": "ibPZByJRMApp",
        "colab_type": "code",
        "colab": {}
      },
      "source": [
        "import gc\n"
      ],
      "execution_count": 0,
      "outputs": []
    },
    {
      "cell_type": "code",
      "metadata": {
        "id": "sAkio2GIxxmK",
        "colab_type": "code",
        "colab": {}
      },
      "source": [
        "gc.collect()\n",
        "i = np.array([[1, \"acuerdo\"],\n",
        "              [2, \"anuncios\"],\n",
        "              [3, \"aprobacion\"],\n",
        "              [4, \"competencias\"],\n",
        "              [5, \"concurso\"],\n",
        "              [6, \"constitucional\"],\n",
        "              [7, \"convenio\"],\n",
        "              [8, \"correccion\"],\n",
        "              [9, \"divisas\"],\n",
        "              [10, \"educacion\"],\n",
        "              [11, \"empleo/oposicion\"],\n",
        "              [12, \"extravio\"],\n",
        "              [13, \"ley\"],\n",
        "              [14, \"nombramientos\"],\n",
        "              [15, \"politica exterior\"],\n",
        "              [16, \"politica interior\"],\n",
        "              [17, \"premios\"],\n",
        "              [18, \"resolucion\"],\n",
        "              [19, \"subasta\"],\n",
        "              [20, \"subvencion\"]])\n",
        "i\n",
        "\n",
        "array = np.hstack((np.vstack((process[1].to_numpy())), np.vstack((y_pred))))\n"
      ],
      "execution_count": 0,
      "outputs": []
    },
    {
      "cell_type": "code",
      "metadata": {
        "id": "xNTEqS-tNmoo",
        "colab_type": "code",
        "colab": {}
      },
      "source": [
        "gc.collect()\n",
        "\n",
        "np.save(\"./result\", array)"
      ],
      "execution_count": 0,
      "outputs": []
    },
    {
      "cell_type": "code",
      "metadata": {
        "id": "kyxTIXOfREG3",
        "colab_type": "code",
        "outputId": "4e8ddf52-46f4-4b7f-ceee-f61668c57066",
        "colab": {
          "base_uri": "https://localhost:8080/",
          "height": 170
        }
      },
      "source": [
        "!ls -l"
      ],
      "execution_count": 0,
      "outputs": [
        {
          "output_type": "stream",
          "text": [
            "total 13039112\n",
            "-rw-r--r-- 1 root root   37389733 May 12 10:57 BOE_fit_words.pickle\n",
            "-rw-r--r-- 1 root root    4281035 May 12 10:54 BOES-juntos.csv\n",
            "-rw-r--r-- 1 root root 5646295847 May 12 18:00 d.csv\n",
            "-rw-r--r-- 1 root root     101612 May 12 18:20 final.csv\n",
            "-rw-r--r-- 1 root root 1382888776 May 12 18:17 result.npy\n",
            "drwxr-xr-x 1 root root       4096 May  8 16:22 sample_data\n",
            "-rw-r--r-- 1 root root  187932640 May 12 18:17 t.csv.xz\n",
            "-rw-r--r-- 1 root root 6093123032 May 12 11:06 u.csv\n"
          ],
          "name": "stdout"
        }
      ]
    }
  ]
}